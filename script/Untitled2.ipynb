{
 "metadata": {
  "name": ""
 },
 "nbformat": 3,
 "nbformat_minor": 0,
 "worksheets": [
  {
   "cells": [
    {
     "cell_type": "code",
     "collapsed": false,
     "input": [
      "from __future__ import print_function\n",
      "import os\n",
      "os.environ['TF_CPP_MIN_LOG_LEVEL']='2'\n",
      "import sys\n",
      "import math\n",
      "from io import BytesIO\n",
      "import numpy as np\n",
      "from functools import partial\n",
      "import PIL\n",
      "from PIL import Image\n",
      "import tensorflow as tf\n",
      "import matplotlib.pyplot as plt\n",
      "import time\n",
      "#input_image = raw_input('input image:>>')\n",
      "input_image = 'asagao'\n",
      "if os.path.exists('/home/roboworks/deepdream/image/{}'.format(input_image)) == False:\n",
      "    os.mkdir('/home/roboworks/deepdream/image/{}'.format(input_image))\n",
      "img0 = PIL.Image.open('/home/roboworks/deepdream/image/{}.jpg'.format(input_image))"
     ],
     "language": "python",
     "metadata": {},
     "outputs": [],
     "prompt_number": 1
    },
    {
     "cell_type": "code",
     "collapsed": false,
     "input": [
      "model_fn = 'tensorflow_inception_graph.pb'\n",
      "graph = tf.Graph()\n",
      "sess = tf.InteractiveSession(graph = graph)"
     ],
     "language": "python",
     "metadata": {},
     "outputs": [],
     "prompt_number": 2
    },
    {
     "cell_type": "code",
     "collapsed": false,
     "input": [
      "with tf.gfile.FastGFile(model_fn,'rb') as f:\n",
      "    graph_def = tf.GraphDef()\n",
      "    graph_def.ParseFromString(f.read())"
     ],
     "language": "python",
     "metadata": {},
     "outputs": [],
     "prompt_number": 3
    },
    {
     "cell_type": "code",
     "collapsed": false,
     "input": [
      "t_input = tf.placeholder(np.float32,name='input')"
     ],
     "language": "python",
     "metadata": {},
     "outputs": [],
     "prompt_number": 4
    },
    {
     "cell_type": "code",
     "collapsed": false,
     "input": [
      "imagenet_mean = 117.0\n",
      "t_preprocessed = tf.expand_dims(t_input - imagenet_mean,0)"
     ],
     "language": "python",
     "metadata": {},
     "outputs": [],
     "prompt_number": 5
    },
    {
     "cell_type": "code",
     "collapsed": false,
     "input": [
      "tf.import_graph_def(graph_def,{'input':t_preprocessed})"
     ],
     "language": "python",
     "metadata": {},
     "outputs": [],
     "prompt_number": 6
    },
    {
     "cell_type": "code",
     "collapsed": false,
     "input": [
      "count = []\n",
      "layer_name = ''\n",
      "def showarray(a, fmt='jpg', i=0):\n",
      "    count.append(i)\n",
      "    a = np.uint8(np.clip(a,0,1)*255)\n",
      "    f = BytesIO()\n",
      "    PIL.Image.fromarray(a).save(f, fmt)\n",
      "    s = PIL.Image.fromarray"
     ],
     "language": "python",
     "metadata": {},
     "outputs": []
    }
   ],
   "metadata": {}
  }
 ]
}