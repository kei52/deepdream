{
 "metadata": {
  "name": ""
 },
 "nbformat": 3,
 "nbformat_minor": 0,
 "worksheets": [
  {
   "cells": [
    {
     "cell_type": "code",
     "collapsed": false,
     "input": [
      "from __future__ import print_function\n",
      "import os\n",
      "os.environ['TF_CPP_MIN_LOG_LEVEL']='2'\n",
      "import sys\n",
      "import math\n",
      "from io import BytesIO\n",
      "import numpy as np\n",
      "from functools import partial\n",
      "import PIL\n",
      "from PIL import Image\n",
      "import tensorflow as tf\n",
      "import matplotlib.pyplot as plt\n",
      "import time\n",
      "#input_image = raw_input('input image:>>')\n",
      "input_image = 'asagao'\n",
      "if os.path.exists('/home/roboworks/deepdream/image/{}'.format(input_image)) == False:\n",
      "    os.mkdir('/home/roboworks/deepdream/image/{}'.format(input_image))\n",
      "img0 = PIL.Image.open('/home/roboworks/deepdream/image/{}.jpg'.format(input_image))"
     ],
     "language": "python",
     "metadata": {},
     "outputs": [],
     "prompt_number": 1
    },
    {
     "cell_type": "code",
     "collapsed": false,
     "input": [
      "model_fn = 'tensorflow_inception_graph.pb'\n",
      "graph = tf.Graph()\n",
      "sess = tf.InteractiveSession(graph = graph)"
     ],
     "language": "python",
     "metadata": {},
     "outputs": [],
     "prompt_number": 2
    },
    {
     "cell_type": "code",
     "collapsed": false,
     "input": [
      "with tf.gfile"
     ],
     "language": "python",
     "metadata": {},
     "outputs": []
    }
   ],
   "metadata": {}
  }
 ]
}