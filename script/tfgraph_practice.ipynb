{
 "metadata": {
  "name": ""
 },
 "nbformat": 3,
 "nbformat_minor": 0,
 "worksheets": [
  {
   "cells": [
    {
     "cell_type": "code",
     "collapsed": false,
     "input": [
      "import tensorflow as tf\n",
      "import matplotlib.pyplot as plt\n",
      "from PIL import Image\n",
      "import numpy as np\n",
      "import math\n",
      "import time\n",
      "import os\n",
      "import sys"
     ],
     "language": "python",
     "metadata": {},
     "outputs": [],
     "prompt_number": 23
    },
    {
     "cell_type": "code",
     "collapsed": false,
     "input": [
      "import tfgraphviz as tfg"
     ],
     "language": "python",
     "metadata": {},
     "outputs": [],
     "prompt_number": 24
    },
    {
     "cell_type": "code",
     "collapsed": false,
     "input": [
      "#ready variable\n",
      "a = tf.constant(1,name='a')\n",
      "b = tf.constant(1,name='a')\n",
      "c = tf.add(a,b,name='add')"
     ],
     "language": "python",
     "metadata": {},
     "outputs": [],
     "prompt_number": 25
    },
    {
     "cell_type": "code",
     "collapsed": false,
     "input": [
      "graph = tf.get_default_graph()"
     ],
     "language": "python",
     "metadata": {},
     "outputs": [],
     "prompt_number": 26
    },
    {
     "cell_type": "code",
     "collapsed": false,
     "input": [
      "graph"
     ],
     "language": "python",
     "metadata": {},
     "outputs": [
      {
       "metadata": {},
       "output_type": "pyout",
       "prompt_number": 27,
       "text": [
        "<tensorflow.python.framework.ops.Graph at 0x7f4fad48a550>"
       ]
      }
     ],
     "prompt_number": 27
    },
    {
     "cell_type": "code",
     "collapsed": false,
     "input": [
      "%whos"
     ],
     "language": "python",
     "metadata": {},
     "outputs": [
      {
       "output_type": "stream",
       "stream": "stdout",
       "text": [
        "Variable   Type       Data/Info\n",
        "-------------------------------\n",
        "Image      module     <module 'PIL.Image' from <...>-packages/PIL/Image.pyc'>\n",
        "a          Tensor     Tensor(\"a_2:0\", shape=(), dtype=int32)\n",
        "b          Tensor     Tensor(\"a_3:0\", shape=(), dtype=int32)\n",
        "c          Tensor     Tensor(\"add_3:0\", shape=(), dtype=int32)\n",
        "graph      Graph      <tensorflow.python.framew<...>object at 0x7f4fad48a550>\n",
        "math       module     <module 'math' (built-in)>\n",
        "np         module     <module 'numpy' from '/us<...>.egg/numpy/__init__.pyc'>\n",
        "os         module     <module 'os' from '/usr/lib/python2.7/os.pyc'>\n",
        "plt        module     <module 'matplotlib.pyplo<...>7/matplotlib/pyplot.pyc'>\n",
        "sess       Session    <tensorflow.python.client<...>object at 0x7f4fac414210>\n",
        "sys        module     <module 'sys' (built-in)>\n",
        "tf         module     <module 'tensorflow' from<...>tensorflow/__init__.pyc'>\n",
        "tfg        module     <module 'tfgraphviz' from<...>tfgraphviz/__init__.pyc'>\n",
        "time       module     <module 'time' (built-in)>\n",
        "z          Tensor     Tensor(\"add_2:0\", shape=(), dtype=int32)\n"
       ]
      }
     ],
     "prompt_number": 28
    },
    {
     "cell_type": "code",
     "collapsed": false,
     "input": [
      "tfg.board"
     ],
     "language": "python",
     "metadata": {},
     "outputs": [
      {
       "metadata": {},
       "output_type": "pyout",
       "prompt_number": 29,
       "text": [
        "<function tfgraphviz.graphviz_wrapper.board>"
       ]
      }
     ],
     "prompt_number": 29
    },
    {
     "cell_type": "code",
     "collapsed": false,
     "input": [
      "z = a + b\n",
      "z"
     ],
     "language": "python",
     "metadata": {},
     "outputs": [
      {
       "metadata": {},
       "output_type": "pyout",
       "prompt_number": 30,
       "text": [
        "<tf.Tensor 'add_4:0' shape=() dtype=int32>"
       ]
      }
     ],
     "prompt_number": 30
    },
    {
     "cell_type": "code",
     "collapsed": false,
     "input": [
      "with tf.name_scope('add_scope'):\n",
      "    x = tf.constant(1,name='x')\n",
      "    y = tf.constant(2,name='y')\n",
      "    z = x + y"
     ],
     "language": "python",
     "metadata": {},
     "outputs": [],
     "prompt_number": 33
    },
    {
     "cell_type": "code",
     "collapsed": false,
     "input": [],
     "language": "python",
     "metadata": {},
     "outputs": []
    }
   ],
   "metadata": {}
  }
 ]
}